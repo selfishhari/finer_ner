{
 "cells": [
  {
   "cell_type": "markdown",
   "id": "8e57df1c",
   "metadata": {},
   "source": [
    "# Data Prep\n",
    "\n",
    "1. Subsampling to reduce imbalance\n",
    "2. Handle bert wordpiece tokens and align it with provided tokens (50.94 etc)"
   ]
  },
  {
   "cell_type": "raw",
   "id": "af1c1b9d",
   "metadata": {},
   "source": [
    "!pip install datasets"
   ]
  },
  {
   "cell_type": "code",
   "execution_count": 1,
   "id": "e028975d",
   "metadata": {},
   "outputs": [],
   "source": [
    "import pandas as pd\n",
    "import datasets"
   ]
  },
  {
   "cell_type": "code",
   "execution_count": 2,
   "id": "a24898bf",
   "metadata": {},
   "outputs": [],
   "source": [
    "pd.options.display.max_colwidth = 1000"
   ]
  },
  {
   "cell_type": "code",
   "execution_count": 3,
   "id": "81789b67",
   "metadata": {},
   "outputs": [],
   "source": [
    "selected_tag_ids = [34, 37, 38, 41, 42, 43, 87, 178, 199, 204, 0]"
   ]
  },
  {
   "cell_type": "code",
   "execution_count": 4,
   "id": "1841f3c6",
   "metadata": {
    "scrolled": false
   },
   "outputs": [],
   "source": [
    "dataset = datasets.load_dataset(\"nlpaueb/finer-139\")"
   ]
  },
  {
   "cell_type": "code",
   "execution_count": 5,
   "id": "61b9687c",
   "metadata": {},
   "outputs": [
    {
     "data": {
      "text/plain": [
       "['O',\n",
       " 'B-AccrualForEnvironmentalLossContingencies',\n",
       " 'B-AcquiredFiniteLivedIntangibleAssetsWeightedAverageUsefulLife',\n",
       " 'I-AcquiredFiniteLivedIntangibleAssetsWeightedAverageUsefulLife',\n",
       " 'B-AllocatedShareBasedCompensationExpense',\n",
       " 'B-AmortizationOfFinancingCosts',\n",
       " 'B-AmortizationOfIntangibleAssets',\n",
       " 'I-AmortizationOfIntangibleAssets',\n",
       " 'B-AntidilutiveSecuritiesExcludedFromComputationOfEarningsPerShareAmount',\n",
       " 'I-AntidilutiveSecuritiesExcludedFromComputationOfEarningsPerShareAmount',\n",
       " 'B-AreaOfRealEstateProperty',\n",
       " 'I-AreaOfRealEstateProperty',\n",
       " 'B-AssetImpairmentCharges',\n",
       " 'B-BusinessAcquisitionEquityInterestsIssuedOrIssuableNumberOfSharesIssued',\n",
       " 'B-BusinessAcquisitionPercentageOfVotingInterestsAcquired',\n",
       " 'I-BusinessAcquisitionPercentageOfVotingInterestsAcquired',\n",
       " 'B-BusinessCombinationAcquisitionRelatedCosts',\n",
       " 'B-BusinessCombinationConsiderationTransferred1',\n",
       " 'B-BusinessCombinationContingentConsiderationLiability',\n",
       " 'B-BusinessCombinationRecognizedIdentifiableAssetsAcquiredAndLiabilitiesAssumedIntangibleAssetsOtherThanGoodwill',\n",
       " 'B-BusinessCombinationRecognizedIdentifiableAssetsAcquiredAndLiabilitiesAssumedIntangibles',\n",
       " 'B-CapitalizedContractCostAmortization',\n",
       " 'B-CashAndCashEquivalentsFairValueDisclosure',\n",
       " 'B-ClassOfWarrantOrRightExercisePriceOfWarrantsOrRights1',\n",
       " 'B-CommonStockCapitalSharesReservedForFutureIssuance',\n",
       " 'B-CommonStockDividendsPerShareDeclared',\n",
       " 'B-CommonStockParOrStatedValuePerShare',\n",
       " 'B-CommonStockSharesAuthorized',\n",
       " 'I-CommonStockSharesAuthorized',\n",
       " 'B-CommonStockSharesOutstanding',\n",
       " 'B-ConcentrationRiskPercentage1',\n",
       " 'B-ContractWithCustomerLiability',\n",
       " 'B-ContractWithCustomerLiabilityRevenueRecognized',\n",
       " 'B-CumulativeEffectOfNewAccountingPrincipleInPeriodOfAdoption',\n",
       " 'B-DebtInstrumentBasisSpreadOnVariableRate1',\n",
       " 'B-DebtInstrumentCarryingAmount',\n",
       " 'B-DebtInstrumentConvertibleConversionPrice1',\n",
       " 'B-DebtInstrumentFaceAmount',\n",
       " 'I-DebtInstrumentFaceAmount',\n",
       " 'B-DebtInstrumentFairValue',\n",
       " 'B-DebtInstrumentInterestRateEffectivePercentage',\n",
       " 'B-DebtInstrumentInterestRateStatedPercentage',\n",
       " 'B-DebtInstrumentMaturityDate',\n",
       " 'I-DebtInstrumentMaturityDate',\n",
       " 'B-DebtInstrumentRedemptionPricePercentage',\n",
       " 'B-DebtInstrumentTerm',\n",
       " 'I-DebtInstrumentTerm',\n",
       " 'B-DebtInstrumentUnamortizedDiscount',\n",
       " 'B-DebtWeightedAverageInterestRate',\n",
       " 'B-DeferredFinanceCostsGross',\n",
       " 'B-DeferredFinanceCostsNet',\n",
       " 'B-DefinedBenefitPlanContributionsByEmployer',\n",
       " 'B-DefinedContributionPlanCostRecognized',\n",
       " 'B-Depreciation',\n",
       " 'B-DerivativeFixedInterestRate',\n",
       " 'B-DerivativeNotionalAmount',\n",
       " 'B-DisposalGroupIncludingDiscontinuedOperationConsideration',\n",
       " 'B-EffectiveIncomeTaxRateContinuingOperations',\n",
       " 'B-EffectiveIncomeTaxRateReconciliationAtFederalStatutoryIncomeTaxRate',\n",
       " 'B-EmployeeServiceShareBasedCompensationNonvestedAwardsTotalCompensationCostNotYetRecognized',\n",
       " 'B-EmployeeServiceShareBasedCompensationNonvestedAwardsTotalCompensationCostNotYetRecognizedPeriodForRecognition1',\n",
       " 'I-EmployeeServiceShareBasedCompensationNonvestedAwardsTotalCompensationCostNotYetRecognizedPeriodForRecognition1',\n",
       " 'B-EmployeeServiceShareBasedCompensationNonvestedAwardsTotalCompensationCostNotYetRecognizedShareBasedAwardsOtherThanOptions',\n",
       " 'B-EmployeeServiceShareBasedCompensationTaxBenefitFromCompensationExpense',\n",
       " 'B-EquityMethodInvestmentOwnershipPercentage',\n",
       " 'I-EquityMethodInvestmentOwnershipPercentage',\n",
       " 'B-EquityMethodInvestments',\n",
       " 'B-FiniteLivedIntangibleAssetUsefulLife',\n",
       " 'I-FiniteLivedIntangibleAssetUsefulLife',\n",
       " 'B-GainsLossesOnExtinguishmentOfDebt',\n",
       " 'B-Goodwill',\n",
       " 'B-GoodwillImpairmentLoss',\n",
       " 'B-GuaranteeObligationsMaximumExposure',\n",
       " 'B-IncomeLossFromEquityMethodInvestments',\n",
       " 'B-IncomeTaxExpenseBenefit',\n",
       " 'B-InterestExpense',\n",
       " 'B-InterestExpenseDebt',\n",
       " 'B-LeaseAndRentalExpense',\n",
       " 'B-LesseeOperatingLeaseRenewalTerm',\n",
       " 'I-LesseeOperatingLeaseRenewalTerm',\n",
       " 'B-LesseeOperatingLeaseTermOfContract',\n",
       " 'I-LesseeOperatingLeaseTermOfContract',\n",
       " 'B-LettersOfCreditOutstandingAmount',\n",
       " 'B-LineOfCredit',\n",
       " 'B-LineOfCreditFacilityCommitmentFeePercentage',\n",
       " 'B-LineOfCreditFacilityCurrentBorrowingCapacity',\n",
       " 'B-LineOfCreditFacilityInterestRateAtPeriodEnd',\n",
       " 'B-LineOfCreditFacilityMaximumBorrowingCapacity',\n",
       " 'B-LineOfCreditFacilityRemainingBorrowingCapacity',\n",
       " 'B-LineOfCreditFacilityUnusedCapacityCommitmentFeePercentage',\n",
       " 'B-LongTermDebt',\n",
       " 'B-LongTermDebtFairValue',\n",
       " 'B-LossContingencyAccrualAtCarryingValue',\n",
       " 'B-LossContingencyDamagesSoughtValue',\n",
       " 'B-LossContingencyEstimateOfPossibleLoss',\n",
       " 'B-LossContingencyPendingClaimsNumber',\n",
       " 'I-LossContingencyPendingClaimsNumber',\n",
       " 'B-MinorityInterestOwnershipPercentageByNoncontrollingOwners',\n",
       " 'B-MinorityInterestOwnershipPercentageByParent',\n",
       " 'B-NumberOfOperatingSegments',\n",
       " 'B-NumberOfRealEstateProperties',\n",
       " 'I-NumberOfRealEstateProperties',\n",
       " 'B-NumberOfReportableSegments',\n",
       " 'B-OperatingLeaseCost',\n",
       " 'B-OperatingLeaseExpense',\n",
       " 'B-OperatingLeaseLiability',\n",
       " 'B-OperatingLeasePayments',\n",
       " 'B-OperatingLeaseRightOfUseAsset',\n",
       " 'B-OperatingLeaseWeightedAverageDiscountRatePercent',\n",
       " 'B-OperatingLeaseWeightedAverageRemainingLeaseTerm1',\n",
       " 'I-OperatingLeaseWeightedAverageRemainingLeaseTerm1',\n",
       " 'B-OperatingLeasesRentExpenseNet',\n",
       " 'B-OperatingLossCarryforwards',\n",
       " 'B-PaymentsToAcquireBusinessesGross',\n",
       " 'B-PaymentsToAcquireBusinessesNetOfCashAcquired',\n",
       " 'B-PreferredStockDividendRatePercentage',\n",
       " 'B-PreferredStockSharesAuthorized',\n",
       " 'I-PreferredStockSharesAuthorized',\n",
       " 'B-ProceedsFromIssuanceOfCommonStock',\n",
       " 'B-PropertyPlantAndEquipmentUsefulLife',\n",
       " 'I-PropertyPlantAndEquipmentUsefulLife',\n",
       " 'B-PublicUtilitiesRequestedRateIncreaseDecreaseAmount',\n",
       " 'B-RelatedPartyTransactionAmountsOfTransaction',\n",
       " 'I-RelatedPartyTransactionAmountsOfTransaction',\n",
       " 'B-RelatedPartyTransactionExpensesFromTransactionsWithRelatedParty',\n",
       " 'I-RelatedPartyTransactionExpensesFromTransactionsWithRelatedParty',\n",
       " 'B-RepaymentsOfDebt',\n",
       " 'B-RestructuringAndRelatedCostExpectedCost1',\n",
       " 'B-RestructuringCharges',\n",
       " 'B-RevenueFromContractWithCustomerExcludingAssessedTax',\n",
       " 'B-RevenueFromContractWithCustomerIncludingAssessedTax',\n",
       " 'B-RevenueFromRelatedParties',\n",
       " 'B-RevenueRemainingPerformanceObligation',\n",
       " 'B-Revenues',\n",
       " 'B-SaleOfStockNumberOfSharesIssuedInTransaction',\n",
       " 'I-SaleOfStockNumberOfSharesIssuedInTransaction',\n",
       " 'B-SaleOfStockPricePerShare',\n",
       " 'B-ShareBasedCompensation',\n",
       " 'B-ShareBasedCompensationArrangementByShareBasedPaymentAwardAwardVestingPeriod1',\n",
       " 'I-ShareBasedCompensationArrangementByShareBasedPaymentAwardAwardVestingPeriod1',\n",
       " 'B-ShareBasedCompensationArrangementByShareBasedPaymentAwardEquityInstrumentsOtherThanOptionsGrantsInPeriod',\n",
       " 'I-ShareBasedCompensationArrangementByShareBasedPaymentAwardEquityInstrumentsOtherThanOptionsGrantsInPeriod',\n",
       " 'B-ShareBasedCompensationArrangementByShareBasedPaymentAwardEquityInstrumentsOtherThanOptionsGrantsInPeriodWeightedAverageGrantDateFairValue',\n",
       " 'B-ShareBasedCompensationArrangementByShareBasedPaymentAwardEquityInstrumentsOtherThanOptionsNonvestedNumber',\n",
       " 'B-ShareBasedCompensationArrangementByShareBasedPaymentAwardEquityInstrumentsOtherThanOptionsVestedInPeriodTotalFairValue',\n",
       " 'B-ShareBasedCompensationArrangementByShareBasedPaymentAwardNumberOfSharesAuthorized',\n",
       " 'I-ShareBasedCompensationArrangementByShareBasedPaymentAwardNumberOfSharesAuthorized',\n",
       " 'B-ShareBasedCompensationArrangementByShareBasedPaymentAwardNumberOfSharesAvailableForGrant',\n",
       " 'B-ShareBasedCompensationArrangementByShareBasedPaymentAwardOptionsExercisesInPeriodTotalIntrinsicValue',\n",
       " 'B-ShareBasedCompensationArrangementByShareBasedPaymentAwardOptionsGrantsInPeriodGross',\n",
       " 'B-ShareBasedCompensationArrangementByShareBasedPaymentAwardOptionsGrantsInPeriodWeightedAverageGrantDateFairValue',\n",
       " 'B-SharePrice',\n",
       " 'B-SharebasedCompensationArrangementBySharebasedPaymentAwardAwardVestingRightsPercentage',\n",
       " 'I-SharebasedCompensationArrangementBySharebasedPaymentAwardAwardVestingRightsPercentage',\n",
       " 'B-SharebasedCompensationArrangementBySharebasedPaymentAwardExpirationPeriod',\n",
       " 'I-SharebasedCompensationArrangementBySharebasedPaymentAwardExpirationPeriod',\n",
       " 'B-StockIssuedDuringPeriodSharesNewIssues',\n",
       " 'I-StockIssuedDuringPeriodSharesNewIssues',\n",
       " 'B-StockRepurchaseProgramAuthorizedAmount1',\n",
       " 'B-StockRepurchaseProgramRemainingAuthorizedRepurchaseAmount1',\n",
       " 'B-StockRepurchasedAndRetiredDuringPeriodShares',\n",
       " 'B-StockRepurchasedDuringPeriodShares',\n",
       " 'I-StockRepurchasedDuringPeriodShares',\n",
       " 'B-SupplementalInformationForPropertyCasualtyInsuranceUnderwritersPriorYearClaimsAndClaimsAdjustmentExpense',\n",
       " 'B-TreasuryStockAcquiredAverageCostPerShare',\n",
       " 'B-TreasuryStockSharesAcquired',\n",
       " 'I-TreasuryStockSharesAcquired',\n",
       " 'B-TreasuryStockValueAcquiredCostMethod',\n",
       " 'B-UnrecognizedTaxBenefits',\n",
       " 'B-UnrecognizedTaxBenefitsThatWouldImpactEffectiveTaxRate',\n",
       " 'I-DeferredFinanceCostsGross',\n",
       " 'I-CommonStockParOrStatedValuePerShare',\n",
       " 'I-LossContingencyEstimateOfPossibleLoss',\n",
       " 'I-DefinedContributionPlanCostRecognized',\n",
       " 'I-DebtInstrumentFairValue',\n",
       " 'I-ContractWithCustomerLiabilityRevenueRecognized',\n",
       " 'I-RevenueRemainingPerformanceObligation',\n",
       " 'I-EmployeeServiceShareBasedCompensationNonvestedAwardsTotalCompensationCostNotYetRecognized',\n",
       " 'I-DebtInstrumentInterestRateStatedPercentage',\n",
       " 'I-OperatingLossCarryforwards',\n",
       " 'I-MinorityInterestOwnershipPercentageByNoncontrollingOwners',\n",
       " 'I-InterestExpense',\n",
       " 'I-LongTermDebt',\n",
       " 'I-ShareBasedCompensation',\n",
       " 'I-DebtWeightedAverageInterestRate',\n",
       " 'I-DebtInstrumentCarryingAmount',\n",
       " 'I-DebtInstrumentConvertibleConversionPrice1',\n",
       " 'I-IncomeTaxExpenseBenefit',\n",
       " 'I-ShareBasedCompensationArrangementByShareBasedPaymentAwardOptionsGrantsInPeriodWeightedAverageGrantDateFairValue',\n",
       " 'I-EmployeeServiceShareBasedCompensationNonvestedAwardsTotalCompensationCostNotYetRecognizedShareBasedAwardsOtherThanOptions',\n",
       " 'I-EquityMethodInvestments',\n",
       " 'I-DebtInstrumentUnamortizedDiscount',\n",
       " 'I-GainsLossesOnExtinguishmentOfDebt',\n",
       " 'I-ShareBasedCompensationArrangementByShareBasedPaymentAwardNumberOfSharesAvailableForGrant',\n",
       " 'I-BusinessCombinationRecognizedIdentifiableAssetsAcquiredAndLiabilitiesAssumedIntangibleAssetsOtherThanGoodwill',\n",
       " 'I-PreferredStockDividendRatePercentage',\n",
       " 'I-RevenueFromContractWithCustomerIncludingAssessedTax',\n",
       " 'I-OperatingLeaseWeightedAverageDiscountRatePercent',\n",
       " 'I-LineOfCredit',\n",
       " 'I-LineOfCreditFacilityMaximumBorrowingCapacity',\n",
       " 'I-EffectiveIncomeTaxRateReconciliationAtFederalStatutoryIncomeTaxRate',\n",
       " 'I-LineOfCreditFacilityCommitmentFeePercentage',\n",
       " 'I-BusinessCombinationConsiderationTransferred1',\n",
       " 'I-CommonStockDividendsPerShareDeclared',\n",
       " 'I-DebtInstrumentBasisSpreadOnVariableRate1',\n",
       " 'I-DisposalGroupIncludingDiscontinuedOperationConsideration',\n",
       " 'I-ShareBasedCompensationArrangementByShareBasedPaymentAwardOptionsGrantsInPeriodGross',\n",
       " 'I-CommonStockSharesOutstanding',\n",
       " 'I-AmortizationOfFinancingCosts',\n",
       " 'I-LineOfCreditFacilityCurrentBorrowingCapacity',\n",
       " 'I-TreasuryStockValueAcquiredCostMethod',\n",
       " 'I-ShareBasedCompensationArrangementByShareBasedPaymentAwardEquityInstrumentsOtherThanOptionsNonvestedNumber',\n",
       " 'I-DebtInstrumentInterestRateEffectivePercentage',\n",
       " 'I-SaleOfStockPricePerShare',\n",
       " 'I-CapitalizedContractCostAmortization',\n",
       " 'I-RestructuringCharges',\n",
       " 'I-ShareBasedCompensationArrangementByShareBasedPaymentAwardEquityInstrumentsOtherThanOptionsVestedInPeriodTotalFairValue',\n",
       " 'I-AccrualForEnvironmentalLossContingencies',\n",
       " 'I-CashAndCashEquivalentsFairValueDisclosure',\n",
       " 'I-ProceedsFromIssuanceOfCommonStock',\n",
       " 'I-Revenues',\n",
       " 'I-BusinessCombinationRecognizedIdentifiableAssetsAcquiredAndLiabilitiesAssumedIntangibles',\n",
       " 'I-LettersOfCreditOutstandingAmount',\n",
       " 'I-ShareBasedCompensationArrangementByShareBasedPaymentAwardEquityInstrumentsOtherThanOptionsGrantsInPeriodWeightedAverageGrantDateFairValue',\n",
       " 'I-OperatingLeasePayments',\n",
       " 'I-LineOfCreditFacilityRemainingBorrowingCapacity',\n",
       " 'I-PaymentsToAcquireBusinessesGross',\n",
       " 'I-TreasuryStockAcquiredAverageCostPerShare',\n",
       " 'I-DeferredFinanceCostsNet',\n",
       " 'I-StockRepurchaseProgramAuthorizedAmount1',\n",
       " 'I-InterestExpenseDebt',\n",
       " 'I-ContractWithCustomerLiability',\n",
       " 'I-OperatingLeaseExpense',\n",
       " 'I-Depreciation',\n",
       " 'I-AllocatedShareBasedCompensationExpense',\n",
       " 'I-LossContingencyAccrualAtCarryingValue',\n",
       " 'I-LineOfCreditFacilityUnusedCapacityCommitmentFeePercentage',\n",
       " 'I-SupplementalInformationForPropertyCasualtyInsuranceUnderwritersPriorYearClaimsAndClaimsAdjustmentExpense',\n",
       " 'I-OperatingLeaseLiability',\n",
       " 'I-RevenueFromRelatedParties',\n",
       " 'I-PaymentsToAcquireBusinessesNetOfCashAcquired',\n",
       " 'I-BusinessCombinationContingentConsiderationLiability',\n",
       " 'I-LossContingencyDamagesSoughtValue',\n",
       " 'I-NumberOfOperatingSegments',\n",
       " 'I-BusinessAcquisitionEquityInterestsIssuedOrIssuableNumberOfSharesIssued',\n",
       " 'I-OperatingLeaseRightOfUseAsset',\n",
       " 'I-BusinessCombinationAcquisitionRelatedCosts',\n",
       " 'I-UnrecognizedTaxBenefits',\n",
       " 'I-GuaranteeObligationsMaximumExposure',\n",
       " 'I-RestructuringAndRelatedCostExpectedCost1',\n",
       " 'I-DefinedBenefitPlanContributionsByEmployer',\n",
       " 'I-OperatingLeaseCost',\n",
       " 'I-DerivativeFixedInterestRate',\n",
       " 'I-Goodwill',\n",
       " 'I-GoodwillImpairmentLoss',\n",
       " 'I-CommonStockCapitalSharesReservedForFutureIssuance',\n",
       " 'I-StockRepurchasedAndRetiredDuringPeriodShares',\n",
       " 'I-EmployeeServiceShareBasedCompensationTaxBenefitFromCompensationExpense',\n",
       " 'I-IncomeLossFromEquityMethodInvestments',\n",
       " 'I-NumberOfReportableSegments',\n",
       " 'I-LongTermDebtFairValue',\n",
       " 'I-RepaymentsOfDebt',\n",
       " 'I-ConcentrationRiskPercentage1',\n",
       " 'I-DebtInstrumentRedemptionPricePercentage',\n",
       " 'I-CumulativeEffectOfNewAccountingPrincipleInPeriodOfAdoption',\n",
       " 'I-SharePrice',\n",
       " 'I-UnrecognizedTaxBenefitsThatWouldImpactEffectiveTaxRate',\n",
       " 'I-ShareBasedCompensationArrangementByShareBasedPaymentAwardOptionsExercisesInPeriodTotalIntrinsicValue',\n",
       " 'I-EffectiveIncomeTaxRateContinuingOperations',\n",
       " 'I-RevenueFromContractWithCustomerExcludingAssessedTax',\n",
       " 'I-StockRepurchaseProgramRemainingAuthorizedRepurchaseAmount1',\n",
       " 'I-LineOfCreditFacilityInterestRateAtPeriodEnd',\n",
       " 'I-ClassOfWarrantOrRightExercisePriceOfWarrantsOrRights1',\n",
       " 'I-OperatingLeasesRentExpenseNet',\n",
       " 'I-LeaseAndRentalExpense',\n",
       " 'I-PublicUtilitiesRequestedRateIncreaseDecreaseAmount',\n",
       " 'I-MinorityInterestOwnershipPercentageByParent',\n",
       " 'I-AssetImpairmentCharges',\n",
       " 'I-DerivativeNotionalAmount']"
      ]
     },
     "execution_count": 5,
     "metadata": {},
     "output_type": "execute_result"
    }
   ],
   "source": [
    "ner_tags = dataset[\"train\"].features[\"ner_tags\"].feature.names\n",
    "\n",
    "ner_tags"
   ]
  },
  {
   "cell_type": "code",
   "execution_count": 6,
   "id": "d3c88781",
   "metadata": {},
   "outputs": [
    {
     "data": {
      "text/plain": [
       "['B-DebtInstrumentBasisSpreadOnVariableRate1',\n",
       " 'B-DebtInstrumentFaceAmount',\n",
       " 'I-DebtInstrumentFaceAmount',\n",
       " 'B-DebtInstrumentInterestRateStatedPercentage',\n",
       " 'B-DebtInstrumentMaturityDate',\n",
       " 'I-DebtInstrumentMaturityDate',\n",
       " 'B-LineOfCreditFacilityMaximumBorrowingCapacity',\n",
       " 'I-DebtInstrumentInterestRateStatedPercentage',\n",
       " 'I-LineOfCreditFacilityMaximumBorrowingCapacity',\n",
       " 'I-DebtInstrumentBasisSpreadOnVariableRate1',\n",
       " 'O']"
      ]
     },
     "execution_count": 6,
     "metadata": {},
     "output_type": "execute_result"
    }
   ],
   "source": [
    "[ner_tags[x] for x in selected_tag_ids]"
   ]
  },
  {
   "cell_type": "code",
   "execution_count": 7,
   "id": "a1649619",
   "metadata": {},
   "outputs": [],
   "source": [
    "# test_df = pd.DataFrame.from_dict(dataset[\"test\"])\n",
    "\n",
    "train_df = pd.DataFrame.from_dict(dataset[\"train\"])\n",
    "\n",
    "valid_df = pd.DataFrame.from_dict(dataset[\"validation\"])"
   ]
  },
  {
   "cell_type": "code",
   "execution_count": 8,
   "id": "0c14ce43",
   "metadata": {
    "scrolled": true
   },
   "outputs": [
    {
     "data": {
      "text/html": [
       "<div>\n",
       "<style scoped>\n",
       "    .dataframe tbody tr th:only-of-type {\n",
       "        vertical-align: middle;\n",
       "    }\n",
       "\n",
       "    .dataframe tbody tr th {\n",
       "        vertical-align: top;\n",
       "    }\n",
       "\n",
       "    .dataframe thead th {\n",
       "        text-align: right;\n",
       "    }\n",
       "</style>\n",
       "<table border=\"1\" class=\"dataframe\">\n",
       "  <thead>\n",
       "    <tr style=\"text-align: right;\">\n",
       "      <th></th>\n",
       "      <th>id</th>\n",
       "      <th>tokens</th>\n",
       "      <th>ner_tags</th>\n",
       "      <th>ner_tags_subset</th>\n",
       "    </tr>\n",
       "  </thead>\n",
       "  <tbody>\n",
       "    <tr>\n",
       "      <th>676374</th>\n",
       "      <td>676374</td>\n",
       "      <td>[This, complaint, is, purportedly, brought, derivatively, on, behalf, of, Tree, House, and, asserts, state, law, claims, against, certain, officers, for, breach, of, fiduciary, duty, ,, unjust, enrichment, ,, abuse, of, control, ,, gross, mismanagement, ,, and, corporate, waste, ,, in, addition, to, asserting, violations, of, Section, 14, of, the, Securities, Exchange, Act, of, 1934, .]</td>\n",
       "      <td>[0, 0, 0, 0, 0, 0, 0, 0, 0, 0, 0, 0, 0, 0, 0, 0, 0, 0, 0, 0, 0, 0, 0, 0, 0, 0, 0, 0, 0, 0, 0, 0, 0, 0, 0, 0, 0, 0, 0, 0, 0, 0, 0, 0, 0, 0, 0, 0, 0, 0, 0, 0, 0, 0, 0]</td>\n",
       "      <td>[0, 0, 0, 0, 0, 0, 0, 0, 0, 0, 0, 0, 0, 0, 0, 0, 0, 0, 0, 0, 0, 0, 0, 0, 0, 0, 0, 0, 0, 0, 0, 0, 0, 0, 0, 0, 0, 0, 0, 0, 0, 0, 0, 0, 0, 0, 0, 0, 0, 0, 0, 0, 0, 0, 0]</td>\n",
       "    </tr>\n",
       "    <tr>\n",
       "      <th>724156</th>\n",
       "      <td>724156</td>\n",
       "      <td>[Our, ability, to, make, scheduled, payments, of, the, principal, of, ,, to, pay, interest, on, ,, or, to, refinance, our, indebtedness, ,, including, the, amounts, payable, under, the, 2024, Notes, ,, depends, on, our, future, performance, ,, which, is, subject, to, economic, ,, financial, ,, competitive, ,, and, other, factors, beyond, our, control, .]</td>\n",
       "      <td>[0, 0, 0, 0, 0, 0, 0, 0, 0, 0, 0, 0, 0, 0, 0, 0, 0, 0, 0, 0, 0, 0, 0, 0, 0, 0, 0, 0, 0, 0, 0, 0, 0, 0, 0, 0, 0, 0, 0, 0, 0, 0, 0, 0, 0, 0, 0, 0, 0, 0, 0, 0, 0, 0]</td>\n",
       "      <td>[0, 0, 0, 0, 0, 0, 0, 0, 0, 0, 0, 0, 0, 0, 0, 0, 0, 0, 0, 0, 0, 0, 0, 0, 0, 0, 0, 0, 0, 0, 0, 0, 0, 0, 0, 0, 0, 0, 0, 0, 0, 0, 0, 0, 0, 0, 0, 0, 0, 0, 0, 0, 0, 0]</td>\n",
       "    </tr>\n",
       "    <tr>\n",
       "      <th>846288</th>\n",
       "      <td>846288</td>\n",
       "      <td>[The, remaining, shares, will, be, retired, in, 2020, .]</td>\n",
       "      <td>[0, 0, 0, 0, 0, 0, 0, 0, 0]</td>\n",
       "      <td>[0, 0, 0, 0, 0, 0, 0, 0, 0]</td>\n",
       "    </tr>\n",
       "    <tr>\n",
       "      <th>793572</th>\n",
       "      <td>793572</td>\n",
       "      <td>[In, addition, ,, at, any, time, on, or, prior, to, November, 15, ,, 2022, ,, up, to, 40, percent, of, the, aggregate, principal, amount, of, the, 3, 7/8, percent, Notes, may, be, redeemed, with, the, net, cash, proceeds, of, certain, equity, offerings, at, a, redemption, price, equal, to, 103.875, percent, of, the, aggregate, principal, amount, of, the, notes, plus, accrued, and, unpaid, interest, ,, if, any, .]</td>\n",
       "      <td>[0, 0, 0, 0, 0, 0, 0, 0, 0, 0, 0, 0, 0, 0, 0, 0, 0, 44, 0, 0, 0, 0, 0, 0, 0, 0, 0, 0, 0, 0, 0, 0, 0, 0, 0, 0, 0, 0, 0, 0, 0, 0, 0, 0, 0, 0, 0, 0, 44, 0, 0, 0, 0, 0, 0, 0, 0, 0, 0, 0, 0, 0, 0, 0, 0, 0, 0]</td>\n",
       "      <td>[0, 0, 0, 0, 0, 0, 0, 0, 0, 0, 0, 0, 0, 0, 0, 0, 0, 0, 0, 0, 0, 0, 0, 0, 0, 0, 0, 0, 0, 0, 0, 0, 0, 0, 0, 0, 0, 0, 0, 0, 0, 0, 0, 0, 0, 0, 0, 0, 0, 0, 0, 0, 0, 0, 0, 0, 0, 0, 0, 0, 0, 0, 0, 0, 0, 0, 0]</td>\n",
       "    </tr>\n",
       "    <tr>\n",
       "      <th>84748</th>\n",
       "      <td>84748</td>\n",
       "      <td>[No, subsequent, events, or, transactions, were, identified, ., On, January, 1, ,, 2018, ,, the, Company, retrospectively, adopted, the, new, accounting, standard, for, revenue, recognition, .]</td>\n",
       "      <td>[0, 0, 0, 0, 0, 0, 0, 0, 0, 0, 0, 0, 0, 0, 0, 0, 0, 0, 0, 0, 0, 0, 0, 0, 0, 0]</td>\n",
       "      <td>[0, 0, 0, 0, 0, 0, 0, 0, 0, 0, 0, 0, 0, 0, 0, 0, 0, 0, 0, 0, 0, 0, 0, 0, 0, 0]</td>\n",
       "    </tr>\n",
       "    <tr>\n",
       "      <th>39048</th>\n",
       "      <td>39048</td>\n",
       "      <td>[The, Company, obtains, one, price, per, security, .]</td>\n",
       "      <td>[0, 0, 0, 0, 0, 0, 0, 0]</td>\n",
       "      <td>[0, 0, 0, 0, 0, 0, 0, 0]</td>\n",
       "    </tr>\n",
       "    <tr>\n",
       "      <th>822435</th>\n",
       "      <td>822435</td>\n",
       "      <td>[Segment, Information, We, have, three, reportable, operating, segments, :, brokerage, ,, risk, management, and, corporate, .]</td>\n",
       "      <td>[0, 0, 0, 0, 102, 0, 0, 0, 0, 0, 0, 0, 0, 0, 0, 0]</td>\n",
       "      <td>[0, 0, 0, 0, 0, 0, 0, 0, 0, 0, 0, 0, 0, 0, 0, 0]</td>\n",
       "    </tr>\n",
       "    <tr>\n",
       "      <th>681544</th>\n",
       "      <td>681544</td>\n",
       "      <td>[This, policy, was, effective, January, 1, ,, 2019, .]</td>\n",
       "      <td>[0, 0, 0, 0, 0, 0, 0, 0, 0]</td>\n",
       "      <td>[0, 0, 0, 0, 0, 0, 0, 0, 0]</td>\n",
       "    </tr>\n",
       "    <tr>\n",
       "      <th>660598</th>\n",
       "      <td>660598</td>\n",
       "      <td>[On, February, 12, ,, 2018, ,, the, court, granted, in, part, and, denied, in, part, the, Company, ’, s, motion, to, dismiss, .]</td>\n",
       "      <td>[0, 0, 0, 0, 0, 0, 0, 0, 0, 0, 0, 0, 0, 0, 0, 0, 0, 0, 0, 0, 0, 0, 0]</td>\n",
       "      <td>[0, 0, 0, 0, 0, 0, 0, 0, 0, 0, 0, 0, 0, 0, 0, 0, 0, 0, 0, 0, 0, 0, 0]</td>\n",
       "    </tr>\n",
       "    <tr>\n",
       "      <th>434772</th>\n",
       "      <td>434772</td>\n",
       "      <td>[However, ,, certain, of, these, deferred, tax, assets, and, deferred, tax, liabilities, relate, to, income, tax, effects, initially, recognized, at, the, 35, %, tax, rate, through, other, comprehensive, income, (, loss, ), on, items, reported, within, accumulated, other, comprehensive, income, (, loss, ), on, an, entity, ’, s, balance, sheet, .]</td>\n",
       "      <td>[0, 0, 0, 0, 0, 0, 0, 0, 0, 0, 0, 0, 0, 0, 0, 0, 0, 0, 0, 0, 0, 0, 0, 0, 0, 0, 0, 0, 0, 0, 0, 0, 0, 0, 0, 0, 0, 0, 0, 0, 0, 0, 0, 0, 0, 0, 0, 0, 0, 0, 0]</td>\n",
       "      <td>[0, 0, 0, 0, 0, 0, 0, 0, 0, 0, 0, 0, 0, 0, 0, 0, 0, 0, 0, 0, 0, 0, 0, 0, 0, 0, 0, 0, 0, 0, 0, 0, 0, 0, 0, 0, 0, 0, 0, 0, 0, 0, 0, 0, 0, 0, 0, 0, 0, 0, 0]</td>\n",
       "    </tr>\n",
       "  </tbody>\n",
       "</table>\n",
       "</div>"
      ],
      "text/plain": [
       "            id  \\\n",
       "676374  676374   \n",
       "724156  724156   \n",
       "846288  846288   \n",
       "793572  793572   \n",
       "84748    84748   \n",
       "39048    39048   \n",
       "822435  822435   \n",
       "681544  681544   \n",
       "660598  660598   \n",
       "434772  434772   \n",
       "\n",
       "                                                                                                                                                                                                                                                                                                                                                                                                                                  tokens  \\\n",
       "676374                             [This, complaint, is, purportedly, brought, derivatively, on, behalf, of, Tree, House, and, asserts, state, law, claims, against, certain, officers, for, breach, of, fiduciary, duty, ,, unjust, enrichment, ,, abuse, of, control, ,, gross, mismanagement, ,, and, corporate, waste, ,, in, addition, to, asserting, violations, of, Section, 14, of, the, Securities, Exchange, Act, of, 1934, .]   \n",
       "724156                                                              [Our, ability, to, make, scheduled, payments, of, the, principal, of, ,, to, pay, interest, on, ,, or, to, refinance, our, indebtedness, ,, including, the, amounts, payable, under, the, 2024, Notes, ,, depends, on, our, future, performance, ,, which, is, subject, to, economic, ,, financial, ,, competitive, ,, and, other, factors, beyond, our, control, .]   \n",
       "846288                                                                                                                                                                                                                                                                                                                                                                          [The, remaining, shares, will, be, retired, in, 2020, .]   \n",
       "793572  [In, addition, ,, at, any, time, on, or, prior, to, November, 15, ,, 2022, ,, up, to, 40, percent, of, the, aggregate, principal, amount, of, the, 3, 7/8, percent, Notes, may, be, redeemed, with, the, net, cash, proceeds, of, certain, equity, offerings, at, a, redemption, price, equal, to, 103.875, percent, of, the, aggregate, principal, amount, of, the, notes, plus, accrued, and, unpaid, interest, ,, if, any, .]   \n",
       "84748                                                                                                                                                                                                                                  [No, subsequent, events, or, transactions, were, identified, ., On, January, 1, ,, 2018, ,, the, Company, retrospectively, adopted, the, new, accounting, standard, for, revenue, recognition, .]   \n",
       "39048                                                                                                                                                                                                                                                                                                                                                                              [The, Company, obtains, one, price, per, security, .]   \n",
       "822435                                                                                                                                                                                                                                                                                                    [Segment, Information, We, have, three, reportable, operating, segments, :, brokerage, ,, risk, management, and, corporate, .]   \n",
       "681544                                                                                                                                                                                                                                                                                                                                                                            [This, policy, was, effective, January, 1, ,, 2019, .]   \n",
       "660598                                                                                                                                                                                                                                                                                                  [On, February, 12, ,, 2018, ,, the, court, granted, in, part, and, denied, in, part, the, Company, ’, s, motion, to, dismiss, .]   \n",
       "434772                                                                      [However, ,, certain, of, these, deferred, tax, assets, and, deferred, tax, liabilities, relate, to, income, tax, effects, initially, recognized, at, the, 35, %, tax, rate, through, other, comprehensive, income, (, loss, ), on, items, reported, within, accumulated, other, comprehensive, income, (, loss, ), on, an, entity, ’, s, balance, sheet, .]   \n",
       "\n",
       "                                                                                                                                                                                                           ner_tags  \\\n",
       "676374                                        [0, 0, 0, 0, 0, 0, 0, 0, 0, 0, 0, 0, 0, 0, 0, 0, 0, 0, 0, 0, 0, 0, 0, 0, 0, 0, 0, 0, 0, 0, 0, 0, 0, 0, 0, 0, 0, 0, 0, 0, 0, 0, 0, 0, 0, 0, 0, 0, 0, 0, 0, 0, 0, 0, 0]   \n",
       "724156                                           [0, 0, 0, 0, 0, 0, 0, 0, 0, 0, 0, 0, 0, 0, 0, 0, 0, 0, 0, 0, 0, 0, 0, 0, 0, 0, 0, 0, 0, 0, 0, 0, 0, 0, 0, 0, 0, 0, 0, 0, 0, 0, 0, 0, 0, 0, 0, 0, 0, 0, 0, 0, 0, 0]   \n",
       "846288                                                                                                                                                                                  [0, 0, 0, 0, 0, 0, 0, 0, 0]   \n",
       "793572  [0, 0, 0, 0, 0, 0, 0, 0, 0, 0, 0, 0, 0, 0, 0, 0, 0, 44, 0, 0, 0, 0, 0, 0, 0, 0, 0, 0, 0, 0, 0, 0, 0, 0, 0, 0, 0, 0, 0, 0, 0, 0, 0, 0, 0, 0, 0, 0, 44, 0, 0, 0, 0, 0, 0, 0, 0, 0, 0, 0, 0, 0, 0, 0, 0, 0, 0]   \n",
       "84748                                                                                                                                [0, 0, 0, 0, 0, 0, 0, 0, 0, 0, 0, 0, 0, 0, 0, 0, 0, 0, 0, 0, 0, 0, 0, 0, 0, 0]   \n",
       "39048                                                                                                                                                                                      [0, 0, 0, 0, 0, 0, 0, 0]   \n",
       "822435                                                                                                                                                           [0, 0, 0, 0, 102, 0, 0, 0, 0, 0, 0, 0, 0, 0, 0, 0]   \n",
       "681544                                                                                                                                                                                  [0, 0, 0, 0, 0, 0, 0, 0, 0]   \n",
       "660598                                                                                                                                        [0, 0, 0, 0, 0, 0, 0, 0, 0, 0, 0, 0, 0, 0, 0, 0, 0, 0, 0, 0, 0, 0, 0]   \n",
       "434772                                                    [0, 0, 0, 0, 0, 0, 0, 0, 0, 0, 0, 0, 0, 0, 0, 0, 0, 0, 0, 0, 0, 0, 0, 0, 0, 0, 0, 0, 0, 0, 0, 0, 0, 0, 0, 0, 0, 0, 0, 0, 0, 0, 0, 0, 0, 0, 0, 0, 0, 0, 0]   \n",
       "\n",
       "                                                                                                                                                                                                  ner_tags_subset  \n",
       "676374                                      [0, 0, 0, 0, 0, 0, 0, 0, 0, 0, 0, 0, 0, 0, 0, 0, 0, 0, 0, 0, 0, 0, 0, 0, 0, 0, 0, 0, 0, 0, 0, 0, 0, 0, 0, 0, 0, 0, 0, 0, 0, 0, 0, 0, 0, 0, 0, 0, 0, 0, 0, 0, 0, 0, 0]  \n",
       "724156                                         [0, 0, 0, 0, 0, 0, 0, 0, 0, 0, 0, 0, 0, 0, 0, 0, 0, 0, 0, 0, 0, 0, 0, 0, 0, 0, 0, 0, 0, 0, 0, 0, 0, 0, 0, 0, 0, 0, 0, 0, 0, 0, 0, 0, 0, 0, 0, 0, 0, 0, 0, 0, 0, 0]  \n",
       "846288                                                                                                                                                                                [0, 0, 0, 0, 0, 0, 0, 0, 0]  \n",
       "793572  [0, 0, 0, 0, 0, 0, 0, 0, 0, 0, 0, 0, 0, 0, 0, 0, 0, 0, 0, 0, 0, 0, 0, 0, 0, 0, 0, 0, 0, 0, 0, 0, 0, 0, 0, 0, 0, 0, 0, 0, 0, 0, 0, 0, 0, 0, 0, 0, 0, 0, 0, 0, 0, 0, 0, 0, 0, 0, 0, 0, 0, 0, 0, 0, 0, 0, 0]  \n",
       "84748                                                                                                                              [0, 0, 0, 0, 0, 0, 0, 0, 0, 0, 0, 0, 0, 0, 0, 0, 0, 0, 0, 0, 0, 0, 0, 0, 0, 0]  \n",
       "39048                                                                                                                                                                                    [0, 0, 0, 0, 0, 0, 0, 0]  \n",
       "822435                                                                                                                                                           [0, 0, 0, 0, 0, 0, 0, 0, 0, 0, 0, 0, 0, 0, 0, 0]  \n",
       "681544                                                                                                                                                                                [0, 0, 0, 0, 0, 0, 0, 0, 0]  \n",
       "660598                                                                                                                                      [0, 0, 0, 0, 0, 0, 0, 0, 0, 0, 0, 0, 0, 0, 0, 0, 0, 0, 0, 0, 0, 0, 0]  \n",
       "434772                                                  [0, 0, 0, 0, 0, 0, 0, 0, 0, 0, 0, 0, 0, 0, 0, 0, 0, 0, 0, 0, 0, 0, 0, 0, 0, 0, 0, 0, 0, 0, 0, 0, 0, 0, 0, 0, 0, 0, 0, 0, 0, 0, 0, 0, 0, 0, 0, 0, 0, 0, 0]  "
      ]
     },
     "execution_count": 8,
     "metadata": {},
     "output_type": "execute_result"
    }
   ],
   "source": [
    "\n",
    "train_df[\"ner_tags_subset\"] = train_df[\"ner_tags\"].apply(lambda x: [y if y in selected_tag_ids else 0 for y in x])\n",
    "\n",
    "valid_df[\"ner_tags_subset\"] = valid_df[\"ner_tags\"].apply(lambda x: [y if y in selected_tag_ids else 0 for y in x])\n",
    "\n",
    "train_df.sample((10))"
   ]
  },
  {
   "cell_type": "code",
   "execution_count": 9,
   "id": "26356382",
   "metadata": {
    "scrolled": true
   },
   "outputs": [
    {
     "data": {
      "text/html": [
       "<div>\n",
       "<style scoped>\n",
       "    .dataframe tbody tr th:only-of-type {\n",
       "        vertical-align: middle;\n",
       "    }\n",
       "\n",
       "    .dataframe tbody tr th {\n",
       "        vertical-align: top;\n",
       "    }\n",
       "\n",
       "    .dataframe thead th {\n",
       "        text-align: right;\n",
       "    }\n",
       "</style>\n",
       "<table border=\"1\" class=\"dataframe\">\n",
       "  <thead>\n",
       "    <tr style=\"text-align: right;\">\n",
       "      <th></th>\n",
       "      <th>ner_tags_subset</th>\n",
       "      <th>count</th>\n",
       "      <th>ner_tags_subset2</th>\n",
       "    </tr>\n",
       "  </thead>\n",
       "  <tbody>\n",
       "    <tr>\n",
       "      <th>0</th>\n",
       "      <td>0</td>\n",
       "      <td>40772643</td>\n",
       "      <td>O</td>\n",
       "    </tr>\n",
       "    <tr>\n",
       "      <th>1</th>\n",
       "      <td>41</td>\n",
       "      <td>15208</td>\n",
       "      <td>B-DebtInstrumentInterestRateStatedPercentage</td>\n",
       "    </tr>\n",
       "    <tr>\n",
       "      <th>2</th>\n",
       "      <td>87</td>\n",
       "      <td>11693</td>\n",
       "      <td>B-LineOfCreditFacilityMaximumBorrowingCapacity</td>\n",
       "    </tr>\n",
       "    <tr>\n",
       "      <th>3</th>\n",
       "      <td>34</td>\n",
       "      <td>11445</td>\n",
       "      <td>B-DebtInstrumentBasisSpreadOnVariableRate1</td>\n",
       "    </tr>\n",
       "    <tr>\n",
       "      <th>4</th>\n",
       "      <td>37</td>\n",
       "      <td>10749</td>\n",
       "      <td>B-DebtInstrumentFaceAmount</td>\n",
       "    </tr>\n",
       "    <tr>\n",
       "      <th>5</th>\n",
       "      <td>43</td>\n",
       "      <td>4320</td>\n",
       "      <td>I-DebtInstrumentMaturityDate</td>\n",
       "    </tr>\n",
       "    <tr>\n",
       "      <th>6</th>\n",
       "      <td>42</td>\n",
       "      <td>1440</td>\n",
       "      <td>B-DebtInstrumentMaturityDate</td>\n",
       "    </tr>\n",
       "    <tr>\n",
       "      <th>7</th>\n",
       "      <td>38</td>\n",
       "      <td>1</td>\n",
       "      <td>I-DebtInstrumentFaceAmount</td>\n",
       "    </tr>\n",
       "  </tbody>\n",
       "</table>\n",
       "</div>"
      ],
      "text/plain": [
       "   ner_tags_subset     count                                ner_tags_subset2\n",
       "0                0  40772643                                               O\n",
       "1               41     15208    B-DebtInstrumentInterestRateStatedPercentage\n",
       "2               87     11693  B-LineOfCreditFacilityMaximumBorrowingCapacity\n",
       "3               34     11445      B-DebtInstrumentBasisSpreadOnVariableRate1\n",
       "4               37     10749                      B-DebtInstrumentFaceAmount\n",
       "5               43      4320                    I-DebtInstrumentMaturityDate\n",
       "6               42      1440                    B-DebtInstrumentMaturityDate\n",
       "7               38         1                      I-DebtInstrumentFaceAmount"
      ]
     },
     "execution_count": 9,
     "metadata": {},
     "output_type": "execute_result"
    }
   ],
   "source": [
    "sub_dist = train_df[\"ner_tags_subset\"].explode().value_counts()\n",
    "\n",
    "sub_dist = sub_dist.reset_index()\n",
    "\n",
    "sub_dist['ner_tags_subset2'] = sub_dist['ner_tags_subset'].apply(lambda x: ner_tags[x])\n",
    "\n",
    "sub_dist"
   ]
  },
  {
   "cell_type": "markdown",
   "id": "1ebcece4",
   "metadata": {},
   "source": [
    "##### Checking distributions"
   ]
  },
  {
   "cell_type": "code",
   "execution_count": 9,
   "id": "326aaf07",
   "metadata": {},
   "outputs": [
    {
     "data": {
      "text/plain": [
       "ner_tags\n",
       "False    0.800979\n",
       "True     0.199021\n",
       "Name: proportion, dtype: float64"
      ]
     },
     "execution_count": 9,
     "metadata": {},
     "output_type": "execute_result"
    }
   ],
   "source": [
    "(train_df[\"ner_tags\"].apply(sum) > 0).value_counts(normalize=True)"
   ]
  },
  {
   "cell_type": "code",
   "execution_count": 8,
   "id": "575086f1",
   "metadata": {},
   "outputs": [
    {
     "data": {
      "text/plain": [
       "False    0.967838\n",
       "True     0.032162\n",
       "Name: ner_tags_subset, dtype: float64"
      ]
     },
     "execution_count": 8,
     "metadata": {},
     "output_type": "execute_result"
    }
   ],
   "source": [
    "(train_df[\"ner_tags_subset\"].apply(sum) > 0).value_counts(normalize=True)"
   ]
  },
  {
   "cell_type": "code",
   "execution_count": 9,
   "id": "68552b61",
   "metadata": {},
   "outputs": [
    {
     "data": {
      "text/plain": [
       "False    0.965972\n",
       "True     0.034028\n",
       "Name: ner_tags_subset, dtype: float64"
      ]
     },
     "execution_count": 9,
     "metadata": {},
     "output_type": "execute_result"
    }
   ],
   "source": [
    "(valid_df[\"ner_tags_subset\"].apply(sum) > 0).value_counts(normalize=True)"
   ]
  },
  {
   "cell_type": "code",
   "execution_count": 10,
   "id": "26c33943",
   "metadata": {},
   "outputs": [
    {
     "data": {
      "text/plain": [
       "False    0.807963\n",
       "True     0.192037\n",
       "Name: ner_tags, dtype: float64"
      ]
     },
     "execution_count": 10,
     "metadata": {},
     "output_type": "execute_result"
    }
   ],
   "source": [
    "(valid_df[\"ner_tags\"].apply(sum) > 0).value_counts(normalize=True)"
   ]
  },
  {
   "cell_type": "code",
   "execution_count": 11,
   "id": "a1f6a814",
   "metadata": {
    "scrolled": true
   },
   "outputs": [],
   "source": [
    "train_df[\"subset_present\"] = (train_df[\"ner_tags_subset\"].apply(sum) > 0)"
   ]
  },
  {
   "cell_type": "code",
   "execution_count": 13,
   "id": "df07e554",
   "metadata": {},
   "outputs": [
    {
     "data": {
      "text/plain": [
       "subset_present\n",
       "False    0.967838\n",
       "True     0.032162\n",
       "Name: proportion, dtype: float64"
      ]
     },
     "execution_count": 13,
     "metadata": {},
     "output_type": "execute_result"
    }
   ],
   "source": [
    "train_df.subset_present.value_counts(normalize=True)"
   ]
  },
  {
   "cell_type": "markdown",
   "id": "686e6341",
   "metadata": {},
   "source": [
    "##### 3 % is highly imbalanced set, lets try subsampling"
   ]
  },
  {
   "cell_type": "code",
   "execution_count": 115,
   "id": "df88a24d",
   "metadata": {
    "scrolled": true
   },
   "outputs": [
    {
     "data": {
      "text/plain": [
       "subset_present\n",
       "False    0.818641\n",
       "True     0.181359\n",
       "Name: proportion, dtype: float64"
      ]
     },
     "execution_count": 115,
     "metadata": {},
     "output_type": "execute_result"
    }
   ],
   "source": [
    "sp = train_df.loc[train_df.subset_present == False].sample(frac=0.15, random_state=121)\n",
    "\n",
    "subsampled_train = pd.concat([sp, train_df.loc[train_df.subset_present == True]], ignore_index=True)\n",
    "\n",
    "subsampled_train.subset_present.value_counts(normalize=True)"
   ]
  },
  {
   "cell_type": "code",
   "execution_count": 10,
   "id": "b81923c7",
   "metadata": {},
   "outputs": [
    {
     "ename": "NameError",
     "evalue": "name 'subsampled_train' is not defined",
     "output_type": "error",
     "traceback": [
      "\u001b[1;31m---------------------------------------------------------------------------\u001b[0m",
      "\u001b[1;31mNameError\u001b[0m                                 Traceback (most recent call last)",
      "Cell \u001b[1;32mIn[10], line 1\u001b[0m\n\u001b[1;32m----> 1\u001b[0m subsampled_train[\u001b[38;5;124m\"\u001b[39m\u001b[38;5;124mner_tags_subset\u001b[39m\u001b[38;5;124m\"\u001b[39m] \u001b[38;5;241m=\u001b[39m \u001b[43msubsampled_train\u001b[49m[\u001b[38;5;124m\"\u001b[39m\u001b[38;5;124mner_tags_subset\u001b[39m\u001b[38;5;124m\"\u001b[39m]\u001b[38;5;241m.\u001b[39mapply(\u001b[38;5;28;01mlambda\u001b[39;00m x: [ner_tags[y] \u001b[38;5;28;01mfor\u001b[39;00m y \u001b[38;5;129;01min\u001b[39;00m x])\n",
      "\u001b[1;31mNameError\u001b[0m: name 'subsampled_train' is not defined"
     ]
    }
   ],
   "source": [
    "subsampled_train[\"ner_tags_subset\"] = subsampled_train[\"ner_tags_subset\"].apply(lambda x: [ner_tags[y] for y in x])"
   ]
  },
  {
   "cell_type": "markdown",
   "id": "ae0a48c7",
   "metadata": {},
   "source": [
    "##### expanding tags for xx.xx types"
   ]
  },
  {
   "cell_type": "code",
   "execution_count": 12,
   "id": "bc0cf973",
   "metadata": {},
   "outputs": [],
   "source": [
    "import re\n",
    "def expand_tags(tokenizer, token_list, tag_list):\n",
    "    \n",
    "    final_tags = []\n",
    "    \n",
    "    counter = 0\n",
    "    \n",
    "    for t, l in zip(token_list, tag_list):\n",
    "        \n",
    "        t = re.sub(r'[^\\x00-\\x7F]+', '', t)\n",
    "        if t == \"\":\n",
    "            continue\n",
    "        counter +=1\n",
    "        \n",
    "        \n",
    "#         print(counter, l, t, counter)\n",
    "\n",
    "        temp_counts = 0\n",
    "        \n",
    "        for toks in tokenizer.tokenize(t):\n",
    "#             print(t, toks)\n",
    "            \n",
    "            \n",
    "#             print(toks, temp_counts)\n",
    "            if toks.startswith(\"##\"):\n",
    "                continue\n",
    "            else:\n",
    "                temp_counts +=1\n",
    "                if temp_counts > 1:\n",
    "                    if l != \"O\":\n",
    "                        l = l.replace(\"B-\", \"I-\")\n",
    "#                 print(counter, \"append\", l, counter)\n",
    "                    \n",
    "                final_tags.append(l)           \n",
    "    return final_tags\n",
    "\n",
    "def expand_toks(tokenizer, token_list):\n",
    "    \n",
    "    final_toks = []\n",
    "    for i, t in enumerate(token_list):\n",
    "        t = re.sub(r'[^\\x00-\\x7F]+', '', t)\n",
    "        if t == \"\":\n",
    "            continue\n",
    "        \n",
    "        final_toks += combine_subtoks(tokenizer.tokenize(t))\n",
    "                         \n",
    "    return final_toks\n",
    "\n",
    "\n",
    "def combine_subtoks(toks):\n",
    "    \n",
    "    comb =[]\n",
    "    \n",
    "    curr = []\n",
    "    for i,t in enumerate(toks):\n",
    "#         print(i, curr)\n",
    "        \n",
    "        if t.startswith(\"##\"):\n",
    "            t = t[2:]\n",
    "            curr.append(t)\n",
    "        else:\n",
    "            if len(curr) > 0:\n",
    "                comb.append(\"\".join(curr))\n",
    "            curr= [t]\n",
    "#             if i == len(toks)-1:\n",
    "#                 print(i, comb)\n",
    "    comb.append(\"\".join(curr))\n",
    "                \n",
    "            \n",
    "            \n",
    "    return comb\n",
    "\n",
    "from transformers import AutoTokenizer\n",
    "import time\n",
    "\n",
    "tokenizer = AutoTokenizer.from_pretrained(\"distilbert/distilbert-base-uncased\")"
   ]
  },
  {
   "cell_type": "code",
   "execution_count": 166,
   "id": "b255521f",
   "metadata": {},
   "outputs": [
    {
     "data": {
      "text/plain": [
       "(159672, 11)"
      ]
     },
     "execution_count": 166,
     "metadata": {},
     "output_type": "execute_result"
    }
   ],
   "source": [
    "subsampled_train.shape"
   ]
  },
  {
   "cell_type": "code",
   "execution_count": 167,
   "id": "5848ad7d",
   "metadata": {},
   "outputs": [],
   "source": [
    "subsampled_train[\"tok_len\"] = subsampled_train[\"tokens\"].apply(lambda x: len(x))\n",
    "\n",
    "subsampled_train[\"toks_exp_len\"] = subsampled_train[\"toks_exp\"].apply(lambda x: len(x))\n",
    "\n",
    "subsampled_train[\"tags_len\"] = subsampled_train[\"ner_tags_subset\"].apply(lambda x: len(x))\n",
    "\n",
    "subsampled_train[\"tags_exp_len\"] = subsampled_train[\"ner_expanded\"].apply(lambda x: len(x))"
   ]
  },
  {
   "cell_type": "code",
   "execution_count": 168,
   "id": "b9450192",
   "metadata": {
    "scrolled": true
   },
   "outputs": [
    {
     "data": {
      "text/html": [
       "<div>\n",
       "<style scoped>\n",
       "    .dataframe tbody tr th:only-of-type {\n",
       "        vertical-align: middle;\n",
       "    }\n",
       "\n",
       "    .dataframe tbody tr th {\n",
       "        vertical-align: top;\n",
       "    }\n",
       "\n",
       "    .dataframe thead th {\n",
       "        text-align: right;\n",
       "    }\n",
       "</style>\n",
       "<table border=\"1\" class=\"dataframe\">\n",
       "  <thead>\n",
       "    <tr style=\"text-align: right;\">\n",
       "      <th></th>\n",
       "      <th>id</th>\n",
       "      <th>tokens</th>\n",
       "      <th>ner_tags</th>\n",
       "      <th>ner_tags_subset</th>\n",
       "      <th>subset_present</th>\n",
       "      <th>toks_exp</th>\n",
       "      <th>ner_expanded</th>\n",
       "      <th>tok_len</th>\n",
       "      <th>toks_exp_len</th>\n",
       "      <th>tags_len</th>\n",
       "      <th>tags_exp_len</th>\n",
       "    </tr>\n",
       "  </thead>\n",
       "  <tbody>\n",
       "  </tbody>\n",
       "</table>\n",
       "</div>"
      ],
      "text/plain": [
       "Empty DataFrame\n",
       "Columns: [id, tokens, ner_tags, ner_tags_subset, subset_present, toks_exp, ner_expanded, tok_len, toks_exp_len, tags_len, tags_exp_len]\n",
       "Index: []"
      ]
     },
     "execution_count": 168,
     "metadata": {},
     "output_type": "execute_result"
    }
   ],
   "source": [
    "subsampled_train.loc[subsampled_train.toks_exp_len != subsampled_train.tags_exp_len]#.ner_tags_subset.iloc[0]"
   ]
  },
  {
   "cell_type": "code",
   "execution_count": 170,
   "id": "b763a8de",
   "metadata": {
    "scrolled": true
   },
   "outputs": [
    {
     "data": {
      "text/plain": [
       "ner_expanded\n",
       "O                                                 7545947\n",
       "I-DebtInstrumentInterestRateStatedPercentage        28842\n",
       "I-DebtInstrumentBasisSpreadOnVariableRate1          20898\n",
       "I-LineOfCreditFacilityMaximumBorrowingCapacity      17488\n",
       "I-DebtInstrumentFaceAmount                          15441\n",
       "B-DebtInstrumentInterestRateStatedPercentage        15208\n",
       "B-LineOfCreditFacilityMaximumBorrowingCapacity      11693\n",
       "B-DebtInstrumentBasisSpreadOnVariableRate1          11445\n",
       "B-DebtInstrumentFaceAmount                          10749\n",
       "I-DebtInstrumentMaturityDate                         4320\n",
       "B-DebtInstrumentMaturityDate                         1440\n",
       "Name: count, dtype: int64"
      ]
     },
     "execution_count": 170,
     "metadata": {},
     "output_type": "execute_result"
    }
   ],
   "source": [
    "subsampled_train[\"ner_expanded\"].explode().value_counts()"
   ]
  },
  {
   "cell_type": "code",
   "execution_count": 173,
   "id": "30c16409",
   "metadata": {
    "scrolled": true
   },
   "outputs": [
    {
     "data": {
      "text/plain": [
       "[('B-DebtInstrumentBasisSpreadOnVariableRate1', '0.375'),\n",
       " ('B-DebtInstrumentBasisSpreadOnVariableRate1', '1.375')]"
      ]
     },
     "execution_count": 173,
     "metadata": {},
     "output_type": "execute_result"
    }
   ],
   "source": [
    "i = 142165\n",
    "[(x,y) for x,y in zip(subsampled_train.loc[i,\"ner_tags_subset\"], subsampled_train.loc[i,\"tokens\"]) if x!=\"O\"]"
   ]
  },
  {
   "cell_type": "code",
   "execution_count": 175,
   "id": "fb2df281",
   "metadata": {
    "scrolled": false
   },
   "outputs": [
    {
     "data": {
      "text/plain": [
       "[('B-DebtInstrumentBasisSpreadOnVariableRate1', '0'),\n",
       " ('I-DebtInstrumentBasisSpreadOnVariableRate1', '.'),\n",
       " ('I-DebtInstrumentBasisSpreadOnVariableRate1', '375'),\n",
       " ('B-DebtInstrumentBasisSpreadOnVariableRate1', '1'),\n",
       " ('I-DebtInstrumentBasisSpreadOnVariableRate1', '.'),\n",
       " ('I-DebtInstrumentBasisSpreadOnVariableRate1', '375')]"
      ]
     },
     "execution_count": 175,
     "metadata": {},
     "output_type": "execute_result"
    }
   ],
   "source": [
    "# i = 139011\n",
    "[(x,y) for x,y in zip(subsampled_train.loc[i,\"ner_expanded\"], subsampled_train.loc[i,\"toks_exp\"]) if x!=\"O\"]"
   ]
  },
  {
   "cell_type": "code",
   "execution_count": 177,
   "id": "29036d05",
   "metadata": {},
   "outputs": [],
   "source": [
    "train_df[\"ner_tags_subset\"] = train_df[\"ner_tags_subset\"].apply(lambda x: [ner_tags[y] for y in x])"
   ]
  },
  {
   "cell_type": "code",
   "execution_count": 15,
   "id": "dca58ab0",
   "metadata": {},
   "outputs": [],
   "source": [
    "valid_df[\"ner_tags_subset\"] = valid_df[\"ner_tags_subset\"].apply(lambda x: [ner_tags[y] for y in x])"
   ]
  },
  {
   "cell_type": "code",
   "execution_count": 21,
   "id": "ed790b8f",
   "metadata": {},
   "outputs": [
    {
     "name": "stdout",
     "output_type": "stream",
     "text": [
      "s 227.0125434398651\n",
      "s 448.4984321594238\n"
     ]
    }
   ],
   "source": [
    "st = time.time()\n",
    "valid_df[\"toks_exp\"] = valid_df[\"tokens\"].apply(lambda x: expand_toks(tokenizer, x))\n",
    "\n",
    "et = time.time()\n",
    "\n",
    "print(\"s\", et-st)\n",
    "\n",
    "valid_df[\"ner_expanded\"] = valid_df.apply(lambda x: expand_tags(\n",
    "    tokenizer, x[\"tokens\"], x[\"ner_tags_subset\"]), axis=1)\n",
    "\n",
    "et2=time.time()\n",
    "\n",
    "print(\"s\", et2-st)"
   ]
  },
  {
   "cell_type": "code",
   "execution_count": 22,
   "id": "ba1e2bfe",
   "metadata": {},
   "outputs": [
    {
     "data": {
      "text/plain": [
       "ner_tags_subset\n",
       "O                                                 5187081\n",
       "B-DebtInstrumentInterestRateStatedPercentage         1841\n",
       "B-LineOfCreditFacilityMaximumBorrowingCapacity       1692\n",
       "B-DebtInstrumentBasisSpreadOnVariableRate1           1684\n",
       "B-DebtInstrumentFaceAmount                           1346\n",
       "I-DebtInstrumentMaturityDate                          507\n",
       "B-DebtInstrumentMaturityDate                          169\n",
       "Name: count, dtype: int64"
      ]
     },
     "execution_count": 22,
     "metadata": {},
     "output_type": "execute_result"
    }
   ],
   "source": [
    "valid_df[\"ner_tags_subset\"].explode().value_counts()"
   ]
  },
  {
   "cell_type": "code",
   "execution_count": 23,
   "id": "b9d86fbb",
   "metadata": {
    "scrolled": true
   },
   "outputs": [
    {
     "data": {
      "text/plain": [
       "ner_expanded\n",
       "O                                                 5282393\n",
       "I-DebtInstrumentInterestRateStatedPercentage         3544\n",
       "I-DebtInstrumentBasisSpreadOnVariableRate1           3090\n",
       "I-LineOfCreditFacilityMaximumBorrowingCapacity       2542\n",
       "I-DebtInstrumentFaceAmount                           1976\n",
       "B-DebtInstrumentInterestRateStatedPercentage         1841\n",
       "B-LineOfCreditFacilityMaximumBorrowingCapacity       1692\n",
       "B-DebtInstrumentBasisSpreadOnVariableRate1           1684\n",
       "B-DebtInstrumentFaceAmount                           1346\n",
       "I-DebtInstrumentMaturityDate                          507\n",
       "B-DebtInstrumentMaturityDate                          169\n",
       "Name: count, dtype: int64"
      ]
     },
     "execution_count": 23,
     "metadata": {},
     "output_type": "execute_result"
    }
   ],
   "source": [
    "valid_df[\"ner_expanded\"].explode().value_counts()"
   ]
  },
  {
   "cell_type": "code",
   "execution_count": 24,
   "id": "dc35726e",
   "metadata": {},
   "outputs": [
    {
     "data": {
      "text/plain": [
       "(112494, 6)"
      ]
     },
     "execution_count": 24,
     "metadata": {},
     "output_type": "execute_result"
    }
   ],
   "source": [
    "valid_df.shape"
   ]
  },
  {
   "cell_type": "code",
   "execution_count": 180,
   "id": "e3d7b968",
   "metadata": {},
   "outputs": [],
   "source": [
    "subsampled_train[[\"id\", \"toks_exp\", \"ner_expanded\"]].sample(frac=1).to_csv(\"data/subsampled_train.csv\", index=False)"
   ]
  },
  {
   "cell_type": "code",
   "execution_count": 19,
   "id": "161cff0c",
   "metadata": {},
   "outputs": [],
   "source": [
    "train_df[[\"id\", \"tokens\", \"ner_tags_subset\"]].sample(frac=1).to_csv(\"data/train_proc.csv\", index=False)"
   ]
  },
  {
   "cell_type": "code",
   "execution_count": 28,
   "id": "b437f5af",
   "metadata": {},
   "outputs": [],
   "source": [
    "valid_df[[\"id\", \"toks_exp\", \"ner_expanded\"]].to_csv(\"data/valid_proc.csv\", index=False)"
   ]
  },
  {
   "cell_type": "code",
   "execution_count": 25,
   "id": "eefd70e7",
   "metadata": {
    "scrolled": true
   },
   "outputs": [
    {
     "data": {
      "text/plain": [
       "id                 0\n",
       "tokens             0\n",
       "ner_tags           0\n",
       "ner_tags_subset    0\n",
       "subset_present     0\n",
       "dtype: int64"
      ]
     },
     "execution_count": 25,
     "metadata": {},
     "output_type": "execute_result"
    }
   ],
   "source": [
    "train_df.isna().sum()"
   ]
  },
  {
   "cell_type": "code",
   "execution_count": null,
   "id": "dd00e0fe",
   "metadata": {},
   "outputs": [],
   "source": []
  },
  {
   "cell_type": "code",
   "execution_count": 25,
   "id": "a0dd0fed",
   "metadata": {},
   "outputs": [],
   "source": [
    "# verify if tokens are aligned\n",
    "valid_df[\"tok_len\"] = valid_df[\"tokens\"].apply(lambda x: len(x))\n",
    "\n",
    "valid_df[\"toks_exp_len\"] = valid_df[\"toks_exp\"].apply(lambda x: len(x))\n",
    "\n",
    "valid_df[\"tags_len\"] = valid_df[\"ner_tags_subset\"].apply(lambda x: len(x))\n",
    "\n",
    "valid_df[\"tags_exp_len\"] = valid_df[\"ner_expanded\"].apply(lambda x: len(x))"
   ]
  },
  {
   "cell_type": "code",
   "execution_count": 26,
   "id": "1fb6fd3e",
   "metadata": {
    "scrolled": true
   },
   "outputs": [
    {
     "data": {
      "text/html": [
       "<div>\n",
       "<style scoped>\n",
       "    .dataframe tbody tr th:only-of-type {\n",
       "        vertical-align: middle;\n",
       "    }\n",
       "\n",
       "    .dataframe tbody tr th {\n",
       "        vertical-align: top;\n",
       "    }\n",
       "\n",
       "    .dataframe thead th {\n",
       "        text-align: right;\n",
       "    }\n",
       "</style>\n",
       "<table border=\"1\" class=\"dataframe\">\n",
       "  <thead>\n",
       "    <tr style=\"text-align: right;\">\n",
       "      <th></th>\n",
       "      <th>id</th>\n",
       "      <th>tokens</th>\n",
       "      <th>ner_tags</th>\n",
       "      <th>ner_tags_subset</th>\n",
       "      <th>toks_exp</th>\n",
       "      <th>ner_expanded</th>\n",
       "      <th>tok_len</th>\n",
       "      <th>toks_exp_len</th>\n",
       "      <th>tags_len</th>\n",
       "      <th>tags_exp_len</th>\n",
       "    </tr>\n",
       "  </thead>\n",
       "  <tbody>\n",
       "  </tbody>\n",
       "</table>\n",
       "</div>"
      ],
      "text/plain": [
       "Empty DataFrame\n",
       "Columns: [id, tokens, ner_tags, ner_tags_subset, toks_exp, ner_expanded, tok_len, toks_exp_len, tags_len, tags_exp_len]\n",
       "Index: []"
      ]
     },
     "execution_count": 26,
     "metadata": {},
     "output_type": "execute_result"
    }
   ],
   "source": [
    "valid_df.loc[valid_df.toks_exp_len != valid_df.tags_exp_len]#.ner_tags_subset.iloc[0]"
   ]
  },
  {
   "cell_type": "code",
   "execution_count": 27,
   "id": "d6a75f0f",
   "metadata": {},
   "outputs": [],
   "source": [
    "valid_df[[\"id\", \"toks_exp\", \"ner_expanded\"]].to_csv(\"data/valid_proc.csv\", index=False)"
   ]
  }
 ],
 "metadata": {
  "kernelspec": {
   "display_name": "Python 3 (ipykernel)",
   "language": "python",
   "name": "python3"
  },
  "language_info": {
   "codemirror_mode": {
    "name": "ipython",
    "version": 3
   },
   "file_extension": ".py",
   "mimetype": "text/x-python",
   "name": "python",
   "nbconvert_exporter": "python",
   "pygments_lexer": "ipython3",
   "version": "3.10.13"
  }
 },
 "nbformat": 4,
 "nbformat_minor": 5
}
